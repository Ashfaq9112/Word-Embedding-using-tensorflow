{
 "cells": [
  {
   "cell_type": "code",
   "execution_count": 2,
   "id": "a2cd1f78",
   "metadata": {},
   "outputs": [],
   "source": [
    "import numpy as np\n",
    "from tensorflow.keras.preprocessing.text import one_hot\n",
    "from tensorflow.keras.preprocessing.sequence import pad_sequences\n",
    "from tensorflow.keras.layers import Dense\n",
    "from tensorflow.keras.layers import Embedding\n",
    "from tensorflow.keras.layers import Flatten\n",
    "from tensorflow.keras.models import Sequential\n",
    "\n",
    "\n",
    "\n"
   ]
  },
  {
   "cell_type": "code",
   "execution_count": 3,
   "id": "6fe3b33f",
   "metadata": {},
   "outputs": [],
   "source": [
    "reviews = ['nice food','amazing restaurants', 'too good','just loved it','will go again','horrible food','never go there',\n",
    "          'poor service','poor quality','needs improvement']\n",
    "sentiment = np.array([1,1,1,1,1,0,0,0,0,0])"
   ]
  },
  {
   "cell_type": "code",
   "execution_count": 4,
   "id": "e807497b",
   "metadata": {},
   "outputs": [
    {
     "data": {
      "text/plain": [
       "[26, 18]"
      ]
     },
     "execution_count": 4,
     "metadata": {},
     "output_type": "execute_result"
    }
   ],
   "source": [
    "#function of one_hot\n",
    "one_hot('good ambience',30)#The number varies from 0 to 30"
   ]
  },
  {
   "cell_type": "code",
   "execution_count": 5,
   "id": "e9548547",
   "metadata": {},
   "outputs": [
    {
     "data": {
      "text/plain": [
       "[[15, 7],\n",
       " [18, 28],\n",
       " [10, 26],\n",
       " [25, 5, 19],\n",
       " [10, 10, 25],\n",
       " [8, 7],\n",
       " [23, 10, 24],\n",
       " [10, 21],\n",
       " [10, 3],\n",
       " [1, 16]]"
      ]
     },
     "execution_count": 5,
     "metadata": {},
     "output_type": "execute_result"
    }
   ],
   "source": [
    "one_hot_size =30\n",
    "encoded_reviews=[]\n",
    "for d in reviews:\n",
    "    encoded_reviews.append(one_hot(d,one_hot_size))\n",
    "encoded_reviews  "
   ]
  },
  {
   "cell_type": "code",
   "execution_count": 6,
   "id": "750fa775",
   "metadata": {},
   "outputs": [],
   "source": [
    "#now some hot_encoded are of three sizes and some are four so we are gonna pad everything"
   ]
  },
  {
   "cell_type": "code",
   "execution_count": 8,
   "id": "8f59dac2",
   "metadata": {},
   "outputs": [
    {
     "name": "stdout",
     "output_type": "stream",
     "text": [
      "[[15  7  0]\n",
      " [18 28  0]\n",
      " [10 26  0]\n",
      " [25  5 19]\n",
      " [10 10 25]\n",
      " [ 8  7  0]\n",
      " [23 10 24]\n",
      " [10 21  0]\n",
      " [10  3  0]\n",
      " [ 1 16  0]]\n"
     ]
    }
   ],
   "source": [
    "length_padding = 3\n",
    "padded_reviews = pad_sequences(encoded_reviews, maxlen=length_padding, padding='post')#post means pad the reviews at the end\n",
    "print(padded_reviews)"
   ]
  },
  {
   "cell_type": "code",
   "execution_count": 9,
   "id": "6faab882",
   "metadata": {},
   "outputs": [],
   "source": [
    "embeded_vector_size = 5 #embeded_vector_size means the size of the vector for each word\n",
    "#first layer is embedding with some arguments\n",
    "# second layer i flatten layer\n",
    "# third layer is one neuron dense layer with sigmoid\n",
    "# 1 one_hot_size 2 embeded_vector_size 3 lenght_padding 4 name for embedding layer\n",
    "model = Sequential()\n",
    "model.add(Embedding(one_hot_size, embeded_vector_size, input_length = length_padding, name=\"embeding\" ))\n",
    "model.add(Flatten())\n",
    "model.add(Dense(1, activation = 'sigmoid'))"
   ]
  },
  {
   "cell_type": "code",
   "execution_count": 10,
   "id": "2daad769",
   "metadata": {},
   "outputs": [],
   "source": [
    "x = padded_reviews\n",
    "y = sentiment"
   ]
  },
  {
   "cell_type": "code",
   "execution_count": 11,
   "id": "cef5fb59",
   "metadata": {},
   "outputs": [],
   "source": [
    "model.compile(optimizer = 'adam', loss='binary_crossentropy', metrics=['accuracy'])"
   ]
  },
  {
   "cell_type": "code",
   "execution_count": 12,
   "id": "04f5e347",
   "metadata": {},
   "outputs": [
    {
     "name": "stdout",
     "output_type": "stream",
     "text": [
      "Model: \"sequential\"\n",
      "_________________________________________________________________\n",
      " Layer (type)                Output Shape              Param #   \n",
      "=================================================================\n",
      " embeding (Embedding)        (None, 3, 5)              150       \n",
      "                                                                 \n",
      " flatten (Flatten)           (None, 15)                0         \n",
      "                                                                 \n",
      " dense (Dense)               (None, 1)                 16        \n",
      "                                                                 \n",
      "=================================================================\n",
      "Total params: 166\n",
      "Trainable params: 166\n",
      "Non-trainable params: 0\n",
      "_________________________________________________________________\n"
     ]
    }
   ],
   "source": [
    "model.summary()"
   ]
  },
  {
   "cell_type": "code",
   "execution_count": 13,
   "id": "744e6e7e",
   "metadata": {},
   "outputs": [
    {
     "name": "stdout",
     "output_type": "stream",
     "text": [
      "Epoch 1/50\n",
      "1/1 [==============================] - 1s 958ms/step - loss: 0.6889 - accuracy: 0.6000\n",
      "Epoch 2/50\n",
      "1/1 [==============================] - 0s 16ms/step - loss: 0.6879 - accuracy: 0.7000\n",
      "Epoch 3/50\n",
      "1/1 [==============================] - 0s 0s/step - loss: 0.6869 - accuracy: 0.7000\n",
      "Epoch 4/50\n",
      "1/1 [==============================] - 0s 16ms/step - loss: 0.6859 - accuracy: 0.7000\n",
      "Epoch 5/50\n",
      "1/1 [==============================] - 0s 0s/step - loss: 0.6849 - accuracy: 0.7000\n",
      "Epoch 6/50\n",
      "1/1 [==============================] - 0s 16ms/step - loss: 0.6839 - accuracy: 0.7000\n",
      "Epoch 7/50\n",
      "1/1 [==============================] - 0s 0s/step - loss: 0.6829 - accuracy: 0.7000\n",
      "Epoch 8/50\n",
      "1/1 [==============================] - 0s 0s/step - loss: 0.6819 - accuracy: 0.7000\n",
      "Epoch 9/50\n",
      "1/1 [==============================] - 0s 16ms/step - loss: 0.6809 - accuracy: 0.7000\n",
      "Epoch 10/50\n",
      "1/1 [==============================] - 0s 0s/step - loss: 0.6799 - accuracy: 0.7000\n",
      "Epoch 11/50\n",
      "1/1 [==============================] - 0s 16ms/step - loss: 0.6788 - accuracy: 0.7000\n",
      "Epoch 12/50\n",
      "1/1 [==============================] - 0s 16ms/step - loss: 0.6778 - accuracy: 0.7000\n",
      "Epoch 13/50\n",
      "1/1 [==============================] - 0s 0s/step - loss: 0.6768 - accuracy: 0.7000\n",
      "Epoch 14/50\n",
      "1/1 [==============================] - 0s 16ms/step - loss: 0.6758 - accuracy: 0.7000\n",
      "Epoch 15/50\n",
      "1/1 [==============================] - 0s 0s/step - loss: 0.6747 - accuracy: 0.7000\n",
      "Epoch 16/50\n",
      "1/1 [==============================] - 0s 0s/step - loss: 0.6737 - accuracy: 0.7000\n",
      "Epoch 17/50\n",
      "1/1 [==============================] - 0s 16ms/step - loss: 0.6726 - accuracy: 0.7000\n",
      "Epoch 18/50\n",
      "1/1 [==============================] - 0s 0s/step - loss: 0.6716 - accuracy: 0.7000\n",
      "Epoch 19/50\n",
      "1/1 [==============================] - 0s 19ms/step - loss: 0.6705 - accuracy: 0.7000\n",
      "Epoch 20/50\n",
      "1/1 [==============================] - 0s 13ms/step - loss: 0.6694 - accuracy: 0.7000\n",
      "Epoch 21/50\n",
      "1/1 [==============================] - 0s 16ms/step - loss: 0.6683 - accuracy: 0.7000\n",
      "Epoch 22/50\n",
      "1/1 [==============================] - 0s 0s/step - loss: 0.6673 - accuracy: 0.7000\n",
      "Epoch 23/50\n",
      "1/1 [==============================] - 0s 0s/step - loss: 0.6662 - accuracy: 0.7000\n",
      "Epoch 24/50\n",
      "1/1 [==============================] - 0s 16ms/step - loss: 0.6651 - accuracy: 0.7000\n",
      "Epoch 25/50\n",
      "1/1 [==============================] - 0s 16ms/step - loss: 0.6639 - accuracy: 0.7000\n",
      "Epoch 26/50\n",
      "1/1 [==============================] - 0s 16ms/step - loss: 0.6628 - accuracy: 0.7000\n",
      "Epoch 27/50\n",
      "1/1 [==============================] - 0s 9ms/step - loss: 0.6617 - accuracy: 0.7000\n",
      "Epoch 28/50\n",
      "1/1 [==============================] - 0s 7ms/step - loss: 0.6605 - accuracy: 0.7000\n",
      "Epoch 29/50\n",
      "1/1 [==============================] - 0s 16ms/step - loss: 0.6594 - accuracy: 0.7000\n",
      "Epoch 30/50\n",
      "1/1 [==============================] - 0s 16ms/step - loss: 0.6582 - accuracy: 0.7000\n",
      "Epoch 31/50\n",
      "1/1 [==============================] - 0s 0s/step - loss: 0.6571 - accuracy: 0.8000\n",
      "Epoch 32/50\n",
      "1/1 [==============================] - 0s 0s/step - loss: 0.6559 - accuracy: 0.8000\n",
      "Epoch 33/50\n",
      "1/1 [==============================] - 0s 16ms/step - loss: 0.6547 - accuracy: 0.8000\n",
      "Epoch 34/50\n",
      "1/1 [==============================] - 0s 16ms/step - loss: 0.6535 - accuracy: 0.8000\n",
      "Epoch 35/50\n",
      "1/1 [==============================] - 0s 0s/step - loss: 0.6523 - accuracy: 0.8000\n",
      "Epoch 36/50\n",
      "1/1 [==============================] - 0s 0s/step - loss: 0.6511 - accuracy: 0.8000\n",
      "Epoch 37/50\n",
      "1/1 [==============================] - 0s 16ms/step - loss: 0.6499 - accuracy: 0.8000\n",
      "Epoch 38/50\n",
      "1/1 [==============================] - 0s 0s/step - loss: 0.6487 - accuracy: 0.8000\n",
      "Epoch 39/50\n",
      "1/1 [==============================] - 0s 0s/step - loss: 0.6474 - accuracy: 0.8000\n",
      "Epoch 40/50\n",
      "1/1 [==============================] - 0s 16ms/step - loss: 0.6462 - accuracy: 0.8000\n",
      "Epoch 41/50\n",
      "1/1 [==============================] - 0s 0s/step - loss: 0.6449 - accuracy: 0.8000\n",
      "Epoch 42/50\n",
      "1/1 [==============================] - 0s 0s/step - loss: 0.6436 - accuracy: 0.8000\n",
      "Epoch 43/50\n",
      "1/1 [==============================] - 0s 16ms/step - loss: 0.6424 - accuracy: 0.8000\n",
      "Epoch 44/50\n",
      "1/1 [==============================] - 0s 0s/step - loss: 0.6411 - accuracy: 0.8000\n",
      "Epoch 45/50\n",
      "1/1 [==============================] - 0s 6ms/step - loss: 0.6398 - accuracy: 0.9000\n",
      "Epoch 46/50\n",
      "1/1 [==============================] - 0s 11ms/step - loss: 0.6385 - accuracy: 0.9000\n",
      "Epoch 47/50\n",
      "1/1 [==============================] - 0s 16ms/step - loss: 0.6372 - accuracy: 0.9000\n",
      "Epoch 48/50\n",
      "1/1 [==============================] - 0s 0s/step - loss: 0.6358 - accuracy: 0.9000\n",
      "Epoch 49/50\n",
      "1/1 [==============================] - 0s 16ms/step - loss: 0.6345 - accuracy: 0.9000\n",
      "Epoch 50/50\n",
      "1/1 [==============================] - 0s 16ms/step - loss: 0.6332 - accuracy: 0.9000\n"
     ]
    },
    {
     "data": {
      "text/plain": [
       "<keras.callbacks.History at 0x1b9d6189550>"
      ]
     },
     "execution_count": 13,
     "metadata": {},
     "output_type": "execute_result"
    }
   ],
   "source": [
    "model.fit(x,y, epochs=50)"
   ]
  },
  {
   "cell_type": "code",
   "execution_count": null,
   "id": "b2aa186c",
   "metadata": {},
   "outputs": [],
   "source": []
  }
 ],
 "metadata": {
  "kernelspec": {
   "display_name": "Python 3 (ipykernel)",
   "language": "python",
   "name": "python3"
  },
  "language_info": {
   "codemirror_mode": {
    "name": "ipython",
    "version": 3
   },
   "file_extension": ".py",
   "mimetype": "text/x-python",
   "name": "python",
   "nbconvert_exporter": "python",
   "pygments_lexer": "ipython3",
   "version": "3.11.1"
  }
 },
 "nbformat": 4,
 "nbformat_minor": 5
}
